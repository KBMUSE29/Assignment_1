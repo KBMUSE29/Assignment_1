{
 "cells": [
  {
   "cell_type": "code",
   "execution_count": 1,
   "id": "e8e4b7d0",
   "metadata": {},
   "outputs": [],
   "source": [
    "import pandas as pd\n",
    "from sklearn import datasets\n",
    "\n",
    "class Utils: \n",
    "\n",
    "    # Load Data Set 1\n",
    "    def load_dataset_1():\n",
    "        data1 = datasets.load_iris()\n",
    "        X, y = data1.data, data1.target\n",
    "        return X, y\n",
    "\n",
    "    # Load Data Set 2\n",
    "    def load_dataset_2():\n",
    "        data2 = datasets.load_wine()\n",
    "        X, y = data2.data, data2.target\n",
    "        return X, y\n",
    "    \n",
    "    # Save Data\n",
    "    def save_data(filename, data, row_titles, col_titles):\n",
    "        dataframe = pd.DataFrame(data, row_titles, col_titles)\n",
    "        dataframe.to_pickle(filename + \".pkl\")\n",
    "        \n",
    "    # Load Data\n",
    "    def load_data(filename):\n",
    "        data = pd.read_pickle(filename + \".pkl\")\n",
    "        return data\n"
   ]
  },
  {
   "cell_type": "code",
   "execution_count": 3,
   "id": "732dbe32",
   "metadata": {},
   "outputs": [
    {
     "ename": "NameError",
     "evalue": "name 'filename' is not defined",
     "output_type": "error",
     "traceback": [
      "\u001b[1;31m---------------------------------------------------------------------------\u001b[0m",
      "\u001b[1;31mNameError\u001b[0m                                 Traceback (most recent call last)",
      "\u001b[1;32m~\\AppData\\Local\\Temp/ipykernel_18664/1303358599.py\u001b[0m in \u001b[0;36m<module>\u001b[1;34m\u001b[0m\n\u001b[0;32m      1\u001b[0m \u001b[1;31m# Example\u001b[0m\u001b[1;33m\u001b[0m\u001b[1;33m\u001b[0m\u001b[1;33m\u001b[0m\u001b[0m\n\u001b[0;32m      2\u001b[0m \u001b[0ma_dataframe\u001b[0m \u001b[1;33m=\u001b[0m \u001b[0mpd\u001b[0m\u001b[1;33m.\u001b[0m\u001b[0mDataFrame\u001b[0m\u001b[1;33m(\u001b[0m\u001b[1;33m[\u001b[0m\u001b[1;33m[\u001b[0m\u001b[1;36m1\u001b[0m\u001b[1;33m,\u001b[0m \u001b[1;36m2\u001b[0m\u001b[1;33m,\u001b[0m \u001b[1;36m3\u001b[0m\u001b[1;33m]\u001b[0m\u001b[1;33m,\u001b[0m \u001b[1;33m[\u001b[0m\u001b[1;36m4\u001b[0m\u001b[1;33m,\u001b[0m \u001b[1;36m5\u001b[0m\u001b[1;33m,\u001b[0m \u001b[1;36m6\u001b[0m\u001b[1;33m]\u001b[0m\u001b[1;33m,\u001b[0m \u001b[1;33m[\u001b[0m\u001b[1;36m7\u001b[0m\u001b[1;33m,\u001b[0m \u001b[1;36m8\u001b[0m\u001b[1;33m,\u001b[0m \u001b[1;36m9\u001b[0m\u001b[1;33m]\u001b[0m\u001b[1;33m]\u001b[0m\u001b[1;33m,\u001b[0m \u001b[1;33m[\u001b[0m\u001b[1;34m\"One\"\u001b[0m\u001b[1;33m,\u001b[0m \u001b[1;34m\"Two\"\u001b[0m\u001b[1;33m,\u001b[0m \u001b[1;34m\"Three\"\u001b[0m\u001b[1;33m]\u001b[0m\u001b[1;33m,\u001b[0m \u001b[1;33m[\u001b[0m\u001b[1;34m'A'\u001b[0m\u001b[1;33m,\u001b[0m \u001b[1;34m'B'\u001b[0m\u001b[1;33m,\u001b[0m \u001b[1;34m'C'\u001b[0m\u001b[1;33m]\u001b[0m\u001b[1;33m)\u001b[0m\u001b[1;33m\u001b[0m\u001b[1;33m\u001b[0m\u001b[0m\n\u001b[1;32m----> 3\u001b[1;33m \u001b[0ma_dataframe\u001b[0m\u001b[1;33m.\u001b[0m\u001b[0mto_pickle\u001b[0m\u001b[1;33m(\u001b[0m\u001b[0mfilename\u001b[0m \u001b[1;33m+\u001b[0m \u001b[1;34m\".pkl\"\u001b[0m\u001b[1;33m)\u001b[0m\u001b[1;33m\u001b[0m\u001b[1;33m\u001b[0m\u001b[0m\n\u001b[0m\u001b[0;32m      4\u001b[0m \u001b[1;33m\u001b[0m\u001b[0m\n\u001b[0;32m      5\u001b[0m \u001b[0moutput\u001b[0m \u001b[1;33m=\u001b[0m \u001b[0mpd\u001b[0m\u001b[1;33m.\u001b[0m\u001b[0mread_pickle\u001b[0m\u001b[1;33m(\u001b[0m\u001b[0mfilename\u001b[0m \u001b[1;33m+\u001b[0m \u001b[1;34m\".pkl\"\u001b[0m\u001b[1;33m)\u001b[0m\u001b[1;33m\u001b[0m\u001b[1;33m\u001b[0m\u001b[0m\n",
      "\u001b[1;31mNameError\u001b[0m: name 'filename' is not defined"
     ]
    }
   ],
   "source": [
    "# Example\n",
    "a_dataframe = pd.DataFrame([[1, 2, 3], [4, 5, 6], [7, 8, 9]], [\"One\", \"Two\", \"Three\"], ['A', 'B', 'C'])"
   ]
  },
  {
   "cell_type": "code",
   "execution_count": 30,
   "id": "6b298105",
   "metadata": {},
   "outputs": [
    {
     "name": "stdout",
     "output_type": "stream",
     "text": [
      "   A  B  C\n",
      "0  1  2  3\n",
      "1  4  5  3\n",
      "2  7  8  9\n"
     ]
    }
   ],
   "source": [
    "data = [[1, 2, 3], [4, 5, 3], [7, 8, 9]]\n",
    "row_t = [\"One\", \"Two\", \"Three\"]\n",
    "col_t = ['A', 'B', 'C']\n",
    "filename = 'a'\n",
    "df1 = pd.DataFrame(data, columns=col_t)\n",
    "#for i in range(len(row_t)):\n",
    " #  df1[row_t[i]] = data[i]\n",
    "print(df1)"
   ]
  },
  {
   "cell_type": "code",
   "execution_count": 31,
   "id": "adad1bc0",
   "metadata": {},
   "outputs": [
    {
     "name": "stdout",
     "output_type": "stream",
     "text": [
      "C\n",
      "3    2\n",
      "9    1\n",
      "dtype: int64\n"
     ]
    }
   ],
   "source": [
    "dups = pd.pivot_table(df1, index=['C'], aggfunc = 'size')\n",
    "print(dups)"
   ]
  },
  {
   "cell_type": "code",
   "execution_count": 11,
   "id": "93c37121",
   "metadata": {},
   "outputs": [
    {
     "name": "stdout",
     "output_type": "stream",
     "text": [
      "       A  B  C\n",
      "One    1  2  3\n",
      "Two    4  5  6\n",
      "Three  7  8  9\n"
     ]
    }
   ],
   "source": [
    "Utils.save_data(filename, data, row_t, col_t)\n",
    "new_data = Utils.load_data(filename)\n",
    "print(new_data)"
   ]
  },
  {
   "cell_type": "code",
   "execution_count": 16,
   "id": "934ba2c8",
   "metadata": {},
   "outputs": [
    {
     "name": "stdout",
     "output_type": "stream",
     "text": [
      "150 150\n",
      "178 178\n"
     ]
    }
   ],
   "source": [
    "X, y = Utils.load_dataset_1()\n",
    "print(len(X), len(y))\n",
    "X, y = Utils.load_dataset_2()\n",
    "print(len(X), len(y))"
   ]
  },
  {
   "cell_type": "code",
   "execution_count": 32,
   "id": "6122ffda",
   "metadata": {},
   "outputs": [
    {
     "name": "stdout",
     "output_type": "stream",
     "text": [
      "0    1\n",
      "1    4\n",
      "2    7\n",
      "Name: A, dtype: int64\n"
     ]
    }
   ],
   "source": [
    "print(df1['A'])"
   ]
  },
  {
   "cell_type": "code",
   "execution_count": 33,
   "id": "d4ff3828",
   "metadata": {},
   "outputs": [
    {
     "name": "stdout",
     "output_type": "stream",
     "text": [
      "0    1\n",
      "1    4\n",
      "2    7\n",
      "Name: A, dtype: int64\n"
     ]
    }
   ],
   "source": [
    "a = df1['A']\n",
    "print(a)"
   ]
  },
  {
   "cell_type": "code",
   "execution_count": 34,
   "id": "22bc9526",
   "metadata": {},
   "outputs": [
    {
     "name": "stdout",
     "output_type": "stream",
     "text": [
      "1\n",
      "4\n",
      "7\n"
     ]
    }
   ],
   "source": [
    "for i in a:\n",
    "    print(i)"
   ]
  },
  {
   "cell_type": "code",
   "execution_count": null,
   "id": "17fd0ca0",
   "metadata": {},
   "outputs": [],
   "source": []
  }
 ],
 "metadata": {
  "kernelspec": {
   "display_name": "Python 3 (ipykernel)",
   "language": "python",
   "name": "python3"
  },
  "language_info": {
   "codemirror_mode": {
    "name": "ipython",
    "version": 3
   },
   "file_extension": ".py",
   "mimetype": "text/x-python",
   "name": "python",
   "nbconvert_exporter": "python",
   "pygments_lexer": "ipython3",
   "version": "3.8.12"
  }
 },
 "nbformat": 4,
 "nbformat_minor": 5
}
