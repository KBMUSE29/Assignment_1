{
 "cells": [
  {
   "cell_type": "code",
   "execution_count": 4,
   "id": "bb8267c5",
   "metadata": {},
   "outputs": [
    {
     "ename": "SyntaxError",
     "evalue": "invalid syntax (Temp/ipykernel_4636/1487845938.py, line 1)",
     "output_type": "error",
     "traceback": [
      "\u001b[1;36m  File \u001b[1;32m\"C:\\Users\\Kelli\\AppData\\Local\\Temp/ipykernel_4636/1487845938.py\"\u001b[1;36m, line \u001b[1;32m1\u001b[0m\n\u001b[1;33m    from CS_7641_Assignment-1 import Utils\u001b[0m\n\u001b[1;37m                           ^\u001b[0m\n\u001b[1;31mSyntaxError\u001b[0m\u001b[1;31m:\u001b[0m invalid syntax\n"
     ]
    }
   ],
   "source": [
    "from CS_7641_Assignment-1 import Utils\n",
    "\n",
    "# Raw data analysis \n",
    "#\n",
    "# Dataset 1 \n",
    "# Histogram of Feature distribution\n",
    "# Feature Importance\n",
    "\n",
    "#\n",
    "# Dataset 2 \n",
    "# Histogram of Feature distribution\n",
    "# Feature Importance\n",
    "\n",
    "\n",
    "\n",
    "\n",
    "# Algorithm Analysis\n",
    "\n",
    "# DT \n",
    "# Learning and cross validation curve\n",
    "#\n",
    "# kNN\n",
    "# Learning and cross validation curve\n",
    "#\n",
    "# NN\n",
    "# Learning and cross validation curve\n",
    "#\n",
    "# SVM\n",
    "# Learning and cross validation curve\n",
    "#\n",
    "# Boosting\n",
    "# Learning and cross validation curve"
   ]
  },
  {
   "cell_type": "code",
   "execution_count": null,
   "id": "ff1c12c5",
   "metadata": {},
   "outputs": [],
   "source": []
  }
 ],
 "metadata": {
  "kernelspec": {
   "display_name": "Python 3 (ipykernel)",
   "language": "python",
   "name": "python3"
  },
  "language_info": {
   "codemirror_mode": {
    "name": "ipython",
    "version": 3
   },
   "file_extension": ".py",
   "mimetype": "text/x-python",
   "name": "python",
   "nbconvert_exporter": "python",
   "pygments_lexer": "ipython3",
   "version": "3.8.12"
  }
 },
 "nbformat": 4,
 "nbformat_minor": 5
}
