{
 "cells": [
  {
   "cell_type": "code",
   "execution_count": 15,
   "id": "e8e4b7d0",
   "metadata": {},
   "outputs": [],
   "source": [
    "import pandas as pd\n",
    "from sklearn import datasets\n",
    "\n",
    "class Utils: \n",
    "\n",
    "    # Load Data Set 1\n",
    "    def load_dataset_1():\n",
    "        data1 = datasets.load_iris()\n",
    "        X, y = data1.data, data1.target\n",
    "        return X, y\n",
    "\n",
    "    # Load Data Set 2\n",
    "    def load_dataset_2():\n",
    "        data2 = datasets.load_wine()\n",
    "        X, y = data2.data, data2.target\n",
    "        return X, y\n",
    "    \n",
    "    # Save Data\n",
    "    def save_data(filename, data, row_titles, col_titles):\n",
    "        dataframe = pd.DataFrame(data, row_titles, col_titles)\n",
    "        dataframe.to_pickle(filename + \".pkl\")\n",
    "        \n",
    "    # Load Data\n",
    "    def load_data(filename):\n",
    "        data = pd.read_pickle(filename + \".pkl\")\n",
    "        return data\n"
   ]
  },
  {
   "cell_type": "code",
   "execution_count": 5,
   "id": "732dbe32",
   "metadata": {},
   "outputs": [
    {
     "name": "stdout",
     "output_type": "stream",
     "text": [
      "       A  B  C\n",
      "One    1  2  3\n",
      "Two    4  5  6\n",
      "Three  7  8  9\n"
     ]
    }
   ],
   "source": [
    "# Example\n",
    "a_dataframe = pd.DataFrame([[1, 2, 3], [4, 5, 6], [7, 8, 9]], [\"One\", \"Two\", \"Three\"], ['A', 'B', 'C'])\n",
    "a_dataframe.to_pickle(filename + \".pkl\")\n",
    "\n",
    "output = pd.read_pickle(filename + \"\".pkl\")\n",
    "print(output)"
   ]
  },
  {
   "cell_type": "code",
   "execution_count": 9,
   "id": "6b298105",
   "metadata": {},
   "outputs": [],
   "source": [
    "data = [[1, 2, 3], [4, 5, 6], [7, 8, 9]]\n",
    "row_t = [\"One\", \"Two\", \"Three\"]\n",
    "col_t = ['A', 'B', 'C']\n",
    "filename = 'a'"
   ]
  },
  {
   "cell_type": "code",
   "execution_count": 11,
   "id": "93c37121",
   "metadata": {},
   "outputs": [
    {
     "name": "stdout",
     "output_type": "stream",
     "text": [
      "       A  B  C\n",
      "One    1  2  3\n",
      "Two    4  5  6\n",
      "Three  7  8  9\n"
     ]
    }
   ],
   "source": [
    "Utils.save_data(filename, data, row_t, col_t)\n",
    "new_data = Utils.load_data(filename)\n",
    "print(new_data)"
   ]
  },
  {
   "cell_type": "code",
   "execution_count": 16,
   "id": "934ba2c8",
   "metadata": {},
   "outputs": [
    {
     "name": "stdout",
     "output_type": "stream",
     "text": [
      "150 150\n",
      "178 178\n"
     ]
    }
   ],
   "source": [
    "X, y = Utils.load_dataset_1()\n",
    "print(len(X), len(y))\n",
    "X, y = Utils.load_dataset_2()\n",
    "print(len(X), len(y))"
   ]
  },
  {
   "cell_type": "code",
   "execution_count": null,
   "id": "6122ffda",
   "metadata": {},
   "outputs": [],
   "source": []
  }
 ],
 "metadata": {
  "kernelspec": {
   "display_name": "Python 3 (ipykernel)",
   "language": "python",
   "name": "python3"
  },
  "language_info": {
   "codemirror_mode": {
    "name": "ipython",
    "version": 3
   },
   "file_extension": ".py",
   "mimetype": "text/x-python",
   "name": "python",
   "nbconvert_exporter": "python",
   "pygments_lexer": "ipython3",
   "version": "3.8.12"
  }
 },
 "nbformat": 4,
 "nbformat_minor": 5
}
